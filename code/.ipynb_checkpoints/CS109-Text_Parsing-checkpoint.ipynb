{
 "cells": [
  {
   "cell_type": "code",
   "execution_count": 66,
   "metadata": {
    "collapsed": false
   },
   "outputs": [],
   "source": [
    "#Credit: https://rstudio-pubs-static.s3.amazonaws.com/79360_850b2a69980c4488b1db95987a24867a.html\n",
    "\n",
    "%matplotlib inline\n",
    "import numpy as np\n",
    "import scipy as sp\n",
    "import matplotlib as mpl\n",
    "import matplotlib.cm as cm\n",
    "import matplotlib.pyplot as plt\n",
    "import pandas as pd\n",
    "pd.set_option('display.width', 500)\n",
    "pd.set_option('display.max_columns', 100)\n",
    "pd.set_option('display.notebook_repr_html', True)\n",
    "import seaborn as sns\n",
    "sns.set_style(\"whitegrid\")\n",
    "sns.set_context(\"poster\")\n",
    "from sklearn.feature_extraction.text import CountVectorizer\n",
    "import gensim\n",
    "from sklearn.cross_validation import train_test_split\n",
    "from collections import defaultdict\n",
    "from pattern.en import parse\n",
    "from pattern.en import pprint\n",
    "from pattern.en import singularize\n",
    "from pattern.vector import stem, PORTER, LEMMA\n",
    "from sklearn.feature_extraction import text \n",
    "import re\n",
    "#import findspark\n",
    "#findspark.init()\n",
    "#import pyspark\n",
    "#from pyspark.sql import SQLContext\n",
    "import re\n",
    "#DATAFILEPATH='/Users/Dilip_MBP/Documents/CS109/PROJECT/data/'\n",
    "DATAFILEPATH='C:/Users/balachandrd/Documents/Personal/CS-109/Project/project_cs109/data/'\n",
    "\n"
   ]
  },
  {
   "cell_type": "code",
   "execution_count": 67,
   "metadata": {
    "collapsed": true
   },
   "outputs": [],
   "source": [
    "punctuation = list('.,;:!?()[]{}`''\\\"@#$^&*+-|=~_')\n",
    "regex1=re.compile(r\"\\.{2,}\")\n",
    "regex2=re.compile(r\"\\-{2,}\")\n",
    "regex3=re.compile(r\"\\\\\\\\\")\n",
    "stopwords=text.ENGLISH_STOP_WORDS\n",
    "CUSTOM_STOPWORDS=['']\n"
   ]
  },
  {
   "cell_type": "code",
   "execution_count": 68,
   "metadata": {
    "collapsed": false
   },
   "outputs": [
    {
     "name": "stdout",
     "output_type": "stream",
     "text": [
      "Number of samples in the database: 59619\n"
     ]
    },
    {
     "data": {
      "text/html": [
       "<div>\n",
       "<table border=\"1\" class=\"dataframe\">\n",
       "  <thead>\n",
       "    <tr style=\"text-align: right;\">\n",
       "      <th></th>\n",
       "      <th>Unnamed: 0</th>\n",
       "      <th>id</th>\n",
       "      <th>title</th>\n",
       "      <th>serial</th>\n",
       "      <th>manufacturer_name</th>\n",
       "      <th>frame_model</th>\n",
       "      <th>year</th>\n",
       "      <th>thumb</th>\n",
       "      <th>large_img</th>\n",
       "      <th>is_stock_img</th>\n",
       "      <th>stolen</th>\n",
       "      <th>stolen_location</th>\n",
       "      <th>date_stolen</th>\n",
       "      <th>registration_created_at</th>\n",
       "      <th>registration_updated_at</th>\n",
       "      <th>url</th>\n",
       "      <th>api_url</th>\n",
       "      <th>manufacturer_id</th>\n",
       "      <th>paint_description</th>\n",
       "      <th>name</th>\n",
       "      <th>frame_size</th>\n",
       "      <th>description</th>\n",
       "      <th>rear_tire_narrow</th>\n",
       "      <th>front_tire_narrow</th>\n",
       "      <th>type_of_cycle</th>\n",
       "      <th>test_bike</th>\n",
       "      <th>rear_wheel_size_iso_bsd</th>\n",
       "      <th>front_wheel_size_iso_bsd</th>\n",
       "      <th>handlebar_type_slug</th>\n",
       "      <th>frame_material_slug</th>\n",
       "      <th>front_gear_type_slug</th>\n",
       "      <th>rear_gear_type_slug</th>\n",
       "      <th>stolen_id</th>\n",
       "      <th>s_date_stolen</th>\n",
       "      <th>s_location</th>\n",
       "      <th>latitude</th>\n",
       "      <th>longitude</th>\n",
       "      <th>theft_description</th>\n",
       "      <th>locking_description</th>\n",
       "      <th>lock_defeat_description</th>\n",
       "      <th>police_report_number</th>\n",
       "      <th>police_report_department</th>\n",
       "      <th>s_rec_created_at</th>\n",
       "      <th>create_open311</th>\n",
       "      <th>sder_formatted_address</th>\n",
       "      <th>sder_street_number</th>\n",
       "      <th>sder_route</th>\n",
       "      <th>sder_postal_code</th>\n",
       "      <th>sder_neighborhood</th>\n",
       "      <th>sder_city</th>\n",
       "      <th>sder_county</th>\n",
       "      <th>sder_state</th>\n",
       "      <th>sder_country</th>\n",
       "      <th>date_stolen_epoch</th>\n",
       "      <th>registration_created_at_epoch</th>\n",
       "      <th>registration_updated_at_epoch</th>\n",
       "      <th>s_rec_created_at_epoch</th>\n",
       "    </tr>\n",
       "  </thead>\n",
       "  <tbody>\n",
       "    <tr>\n",
       "      <th>0</th>\n",
       "      <td>0</td>\n",
       "      <td>50088</td>\n",
       "      <td>Schwinn Gateway</td>\n",
       "      <td>absent</td>\n",
       "      <td>Schwinn</td>\n",
       "      <td>Gateway</td>\n",
       "      <td>NaN</td>\n",
       "      <td>NaN</td>\n",
       "      <td>NaN</td>\n",
       "      <td>False</td>\n",
       "      <td>False</td>\n",
       "      <td>NaN</td>\n",
       "      <td>1970-01-01 00:00:00</td>\n",
       "      <td>2015-07-06 22:27:01</td>\n",
       "      <td>2015-11-03 05:36:54</td>\n",
       "      <td>https://bikeindex.org/bikes/50088</td>\n",
       "      <td>https://bikeindex.org/api/v1/bikes/50088</td>\n",
       "      <td>117</td>\n",
       "      <td>NaN</td>\n",
       "      <td>NaN</td>\n",
       "      <td>NaN</td>\n",
       "      <td>NaN</td>\n",
       "      <td>True</td>\n",
       "      <td>NaN</td>\n",
       "      <td>Bike</td>\n",
       "      <td>False</td>\n",
       "      <td>NaN</td>\n",
       "      <td>NaN</td>\n",
       "      <td>NaN</td>\n",
       "      <td>NaN</td>\n",
       "      <td>NaN</td>\n",
       "      <td>NaN</td>\n",
       "      <td>NaN</td>\n",
       "      <td>NaN</td>\n",
       "      <td>NaN</td>\n",
       "      <td>NaN</td>\n",
       "      <td>NaN</td>\n",
       "      <td>NaN</td>\n",
       "      <td>NaN</td>\n",
       "      <td>NaN</td>\n",
       "      <td>NaN</td>\n",
       "      <td>NaN</td>\n",
       "      <td>1970-01-01 00:00:00</td>\n",
       "      <td>NaN</td>\n",
       "      <td>NaN</td>\n",
       "      <td>NaN</td>\n",
       "      <td>NaN</td>\n",
       "      <td>NaN</td>\n",
       "      <td>NaN</td>\n",
       "      <td>NaN</td>\n",
       "      <td>NaN</td>\n",
       "      <td>NaN</td>\n",
       "      <td>NaN</td>\n",
       "      <td>0</td>\n",
       "      <td>1436221621</td>\n",
       "      <td>1446529014</td>\n",
       "      <td>0</td>\n",
       "    </tr>\n",
       "    <tr>\n",
       "      <th>1</th>\n",
       "      <td>1</td>\n",
       "      <td>60140</td>\n",
       "      <td>2016 Specialized Diverge Elite DSW</td>\n",
       "      <td>WSBC601010269K</td>\n",
       "      <td>Specialized</td>\n",
       "      <td>Diverge Elite DSW</td>\n",
       "      <td>2016</td>\n",
       "      <td>NaN</td>\n",
       "      <td>NaN</td>\n",
       "      <td>False</td>\n",
       "      <td>False</td>\n",
       "      <td>NaN</td>\n",
       "      <td>1970-01-01 00:00:00</td>\n",
       "      <td>2015-10-08 19:18:50</td>\n",
       "      <td>2015-11-03 05:34:30</td>\n",
       "      <td>https://bikeindex.org/bikes/60140</td>\n",
       "      <td>https://bikeindex.org/api/v1/bikes/60140</td>\n",
       "      <td>307</td>\n",
       "      <td>NaN</td>\n",
       "      <td>NaN</td>\n",
       "      <td>52cm</td>\n",
       "      <td>NaN</td>\n",
       "      <td>True</td>\n",
       "      <td>NaN</td>\n",
       "      <td>Bike</td>\n",
       "      <td>False</td>\n",
       "      <td>NaN</td>\n",
       "      <td>NaN</td>\n",
       "      <td>NaN</td>\n",
       "      <td>aluminum</td>\n",
       "      <td>NaN</td>\n",
       "      <td>NaN</td>\n",
       "      <td>NaN</td>\n",
       "      <td>NaN</td>\n",
       "      <td>NaN</td>\n",
       "      <td>NaN</td>\n",
       "      <td>NaN</td>\n",
       "      <td>NaN</td>\n",
       "      <td>NaN</td>\n",
       "      <td>NaN</td>\n",
       "      <td>NaN</td>\n",
       "      <td>NaN</td>\n",
       "      <td>1970-01-01 00:00:00</td>\n",
       "      <td>NaN</td>\n",
       "      <td>NaN</td>\n",
       "      <td>NaN</td>\n",
       "      <td>NaN</td>\n",
       "      <td>NaN</td>\n",
       "      <td>NaN</td>\n",
       "      <td>NaN</td>\n",
       "      <td>NaN</td>\n",
       "      <td>NaN</td>\n",
       "      <td>NaN</td>\n",
       "      <td>0</td>\n",
       "      <td>1444331930</td>\n",
       "      <td>1446528870</td>\n",
       "      <td>0</td>\n",
       "    </tr>\n",
       "  </tbody>\n",
       "</table>\n",
       "</div>"
      ],
      "text/plain": [
       "   Unnamed: 0     id                               title          serial manufacturer_name        frame_model  year thumb large_img is_stock_img stolen stolen_location          date_stolen registration_created_at registration_updated_at                                url                                   api_url  manufacturer_id paint_description name frame_size description rear_tire_narrow front_tire_narrow type_of_cycle test_bike  rear_wheel_size_iso_bsd  front_wheel_size_iso_bsd  \\\n",
       "0           0  50088                     Schwinn Gateway          absent           Schwinn            Gateway   NaN   NaN       NaN        False  False             NaN  1970-01-01 00:00:00     2015-07-06 22:27:01     2015-11-03 05:36:54  https://bikeindex.org/bikes/50088  https://bikeindex.org/api/v1/bikes/50088              117               NaN  NaN        NaN         NaN             True               NaN          Bike     False                      NaN                       NaN   \n",
       "1           1  60140  2016 Specialized Diverge Elite DSW  WSBC601010269K       Specialized  Diverge Elite DSW  2016   NaN       NaN        False  False             NaN  1970-01-01 00:00:00     2015-10-08 19:18:50     2015-11-03 05:34:30  https://bikeindex.org/bikes/60140  https://bikeindex.org/api/v1/bikes/60140              307               NaN  NaN       52cm         NaN             True               NaN          Bike     False                      NaN                       NaN   \n",
       "\n",
       "  handlebar_type_slug frame_material_slug front_gear_type_slug rear_gear_type_slug  stolen_id  s_date_stolen s_location  latitude  longitude theft_description locking_description lock_defeat_description police_report_number police_report_department     s_rec_created_at create_open311 sder_formatted_address sder_street_number sder_route sder_postal_code sder_neighborhood sder_city sder_county sder_state sder_country  date_stolen_epoch  registration_created_at_epoch  \\\n",
       "0                 NaN                 NaN                  NaN                 NaN        NaN            NaN        NaN       NaN        NaN               NaN                 NaN                     NaN                  NaN                      NaN  1970-01-01 00:00:00            NaN                    NaN                NaN        NaN              NaN               NaN       NaN         NaN        NaN          NaN                  0                     1436221621   \n",
       "1                 NaN            aluminum                  NaN                 NaN        NaN            NaN        NaN       NaN        NaN               NaN                 NaN                     NaN                  NaN                      NaN  1970-01-01 00:00:00            NaN                    NaN                NaN        NaN              NaN               NaN       NaN         NaN        NaN          NaN                  0                     1444331930   \n",
       "\n",
       "   registration_updated_at_epoch  s_rec_created_at_epoch  \n",
       "0                     1446529014                       0  \n",
       "1                     1446528870                       0  "
      ]
     },
     "execution_count": 68,
     "metadata": {},
     "output_type": "execute_result"
    }
   ],
   "source": [
    "# Read and store csv data in to Master index\n",
    "\n",
    "bike_masterdf = pd.read_csv(DATAFILEPATH+'bike_details.csv')\n",
    "print \"Number of samples in the database:\", bike_masterdf.shape[0]\n",
    "bike_masterdf.head(2)"
   ]
  },
  {
   "cell_type": "code",
   "execution_count": 69,
   "metadata": {
    "collapsed": false
   },
   "outputs": [
    {
     "name": "stdout",
     "output_type": "stream",
     "text": [
      "Number of bikes reported as stolen:  33182\n",
      "Proportion of bikes reported as stolen:  0.56\n",
      "Number of Stolen bikes with theft description: 29838\n"
     ]
    },
    {
     "data": {
      "text/html": [
       "<div>\n",
       "<table border=\"1\" class=\"dataframe\">\n",
       "  <thead>\n",
       "    <tr style=\"text-align: right;\">\n",
       "      <th></th>\n",
       "      <th>Unnamed: 0</th>\n",
       "      <th>id</th>\n",
       "      <th>title</th>\n",
       "      <th>serial</th>\n",
       "      <th>manufacturer_name</th>\n",
       "      <th>frame_model</th>\n",
       "      <th>year</th>\n",
       "      <th>thumb</th>\n",
       "      <th>large_img</th>\n",
       "      <th>is_stock_img</th>\n",
       "      <th>stolen</th>\n",
       "      <th>stolen_location</th>\n",
       "      <th>date_stolen</th>\n",
       "      <th>registration_created_at</th>\n",
       "      <th>registration_updated_at</th>\n",
       "      <th>url</th>\n",
       "      <th>api_url</th>\n",
       "      <th>manufacturer_id</th>\n",
       "      <th>paint_description</th>\n",
       "      <th>name</th>\n",
       "      <th>frame_size</th>\n",
       "      <th>description</th>\n",
       "      <th>rear_tire_narrow</th>\n",
       "      <th>front_tire_narrow</th>\n",
       "      <th>type_of_cycle</th>\n",
       "      <th>test_bike</th>\n",
       "      <th>rear_wheel_size_iso_bsd</th>\n",
       "      <th>front_wheel_size_iso_bsd</th>\n",
       "      <th>handlebar_type_slug</th>\n",
       "      <th>frame_material_slug</th>\n",
       "      <th>front_gear_type_slug</th>\n",
       "      <th>rear_gear_type_slug</th>\n",
       "      <th>stolen_id</th>\n",
       "      <th>s_date_stolen</th>\n",
       "      <th>s_location</th>\n",
       "      <th>latitude</th>\n",
       "      <th>longitude</th>\n",
       "      <th>theft_description</th>\n",
       "      <th>locking_description</th>\n",
       "      <th>lock_defeat_description</th>\n",
       "      <th>police_report_number</th>\n",
       "      <th>police_report_department</th>\n",
       "      <th>s_rec_created_at</th>\n",
       "      <th>create_open311</th>\n",
       "      <th>sder_formatted_address</th>\n",
       "      <th>sder_street_number</th>\n",
       "      <th>sder_route</th>\n",
       "      <th>sder_postal_code</th>\n",
       "      <th>sder_neighborhood</th>\n",
       "      <th>sder_city</th>\n",
       "      <th>sder_county</th>\n",
       "      <th>sder_state</th>\n",
       "      <th>sder_country</th>\n",
       "      <th>date_stolen_epoch</th>\n",
       "      <th>registration_created_at_epoch</th>\n",
       "      <th>registration_updated_at_epoch</th>\n",
       "      <th>s_rec_created_at_epoch</th>\n",
       "    </tr>\n",
       "  </thead>\n",
       "  <tbody>\n",
       "    <tr>\n",
       "      <th>3</th>\n",
       "      <td>3</td>\n",
       "      <td>11542</td>\n",
       "      <td>2013 Trek 4300</td>\n",
       "      <td>WTU124C5170G</td>\n",
       "      <td>Trek</td>\n",
       "      <td>4300</td>\n",
       "      <td>2013</td>\n",
       "      <td>NaN</td>\n",
       "      <td>NaN</td>\n",
       "      <td>False</td>\n",
       "      <td>True</td>\n",
       "      <td>San Jose, CA, 95126</td>\n",
       "      <td>2013-06-10 06:00:00</td>\n",
       "      <td>2013-08-20 06:00:00</td>\n",
       "      <td>2015-11-03 05:11:14</td>\n",
       "      <td>https://bikeindex.org/bikes/11542</td>\n",
       "      <td>https://bikeindex.org/api/v1/bikes/11542</td>\n",
       "      <td>47</td>\n",
       "      <td>NaN</td>\n",
       "      <td>NaN</td>\n",
       "      <td>NaN</td>\n",
       "      <td>Trek 4300, Mountain bicycle, disc brakes, blac...</td>\n",
       "      <td>True</td>\n",
       "      <td>NaN</td>\n",
       "      <td>Bike</td>\n",
       "      <td>False</td>\n",
       "      <td>NaN</td>\n",
       "      <td>NaN</td>\n",
       "      <td>NaN</td>\n",
       "      <td>NaN</td>\n",
       "      <td>NaN</td>\n",
       "      <td>NaN</td>\n",
       "      <td>7889</td>\n",
       "      <td>1370844000</td>\n",
       "      <td>San Jose, CA, 95126</td>\n",
       "      <td>37.329012</td>\n",
       "      <td>-121.916021</td>\n",
       "      <td>bike rack</td>\n",
       "      <td>NaN</td>\n",
       "      <td>NaN</td>\n",
       "      <td>T13006853</td>\n",
       "      <td>San Jose</td>\n",
       "      <td>2014-06-14 17:52:49</td>\n",
       "      <td>False</td>\n",
       "      <td>1323 Martin Ave, San Jose, CA 95126, USA</td>\n",
       "      <td>1323</td>\n",
       "      <td>Martin Avenue</td>\n",
       "      <td>95126</td>\n",
       "      <td>Shasta-Hanchett Park</td>\n",
       "      <td>San Jose</td>\n",
       "      <td>Santa Clara County</td>\n",
       "      <td>California</td>\n",
       "      <td>United States</td>\n",
       "      <td>1370844000</td>\n",
       "      <td>1376978400</td>\n",
       "      <td>1446527474</td>\n",
       "      <td>1402768369</td>\n",
       "    </tr>\n",
       "    <tr>\n",
       "      <th>4</th>\n",
       "      <td>4</td>\n",
       "      <td>13359</td>\n",
       "      <td>2010 Schwinn Katana</td>\n",
       "      <td>absent</td>\n",
       "      <td>Schwinn</td>\n",
       "      <td>Katana</td>\n",
       "      <td>2010</td>\n",
       "      <td>https://files.bikeindex.org/uploads/Pu/4903/sm...</td>\n",
       "      <td>https://files.bikeindex.org/uploads/Pu/4903/la...</td>\n",
       "      <td>False</td>\n",
       "      <td>True</td>\n",
       "      <td>Sandusky, OH, 44870</td>\n",
       "      <td>2010-07-10 06:00:00</td>\n",
       "      <td>2010-07-11 06:00:00</td>\n",
       "      <td>2015-11-03 05:17:53</td>\n",
       "      <td>https://bikeindex.org/bikes/13359</td>\n",
       "      <td>https://bikeindex.org/api/v1/bikes/13359</td>\n",
       "      <td>117</td>\n",
       "      <td>NaN</td>\n",
       "      <td>NaN</td>\n",
       "      <td>58cm</td>\n",
       "      <td>The bike is a grey, blue, and black Schwinn Ka...</td>\n",
       "      <td>True</td>\n",
       "      <td>NaN</td>\n",
       "      <td>Bike</td>\n",
       "      <td>False</td>\n",
       "      <td>NaN</td>\n",
       "      <td>NaN</td>\n",
       "      <td>NaN</td>\n",
       "      <td>NaN</td>\n",
       "      <td>NaN</td>\n",
       "      <td>NaN</td>\n",
       "      <td>9705</td>\n",
       "      <td>1278741600</td>\n",
       "      <td>Sandusky, OH, 44870</td>\n",
       "      <td>41.440356</td>\n",
       "      <td>-82.768114</td>\n",
       "      <td>car bike rack Reward: $75</td>\n",
       "      <td>NaN</td>\n",
       "      <td>NaN</td>\n",
       "      <td>2010004433</td>\n",
       "      <td>Sandusky</td>\n",
       "      <td>2014-06-14 18:17:08</td>\n",
       "      <td>False</td>\n",
       "      <td>4614 Venice Heights Blvd, Sandusky, OH 44870, USA</td>\n",
       "      <td>4614</td>\n",
       "      <td>Venice Heights Boulevard</td>\n",
       "      <td>44870</td>\n",
       "      <td>NaN</td>\n",
       "      <td>Sandusky</td>\n",
       "      <td>Erie County</td>\n",
       "      <td>Ohio</td>\n",
       "      <td>United States</td>\n",
       "      <td>1278741600</td>\n",
       "      <td>1278828000</td>\n",
       "      <td>1446527873</td>\n",
       "      <td>1402769828</td>\n",
       "    </tr>\n",
       "  </tbody>\n",
       "</table>\n",
       "</div>"
      ],
      "text/plain": [
       "   Unnamed: 0     id                title        serial manufacturer_name frame_model  year                                              thumb                                          large_img is_stock_img stolen      stolen_location          date_stolen registration_created_at registration_updated_at                                url                                   api_url  manufacturer_id paint_description name frame_size                                        description  \\\n",
       "3           3  11542       2013 Trek 4300  WTU124C5170G              Trek        4300  2013                                                NaN                                                NaN        False   True  San Jose, CA, 95126  2013-06-10 06:00:00     2013-08-20 06:00:00     2015-11-03 05:11:14  https://bikeindex.org/bikes/11542  https://bikeindex.org/api/v1/bikes/11542               47               NaN  NaN        NaN  Trek 4300, Mountain bicycle, disc brakes, blac...   \n",
       "4           4  13359  2010 Schwinn Katana        absent           Schwinn      Katana  2010  https://files.bikeindex.org/uploads/Pu/4903/sm...  https://files.bikeindex.org/uploads/Pu/4903/la...        False   True  Sandusky, OH, 44870  2010-07-10 06:00:00     2010-07-11 06:00:00     2015-11-03 05:17:53  https://bikeindex.org/bikes/13359  https://bikeindex.org/api/v1/bikes/13359              117               NaN  NaN       58cm  The bike is a grey, blue, and black Schwinn Ka...   \n",
       "\n",
       "  rear_tire_narrow front_tire_narrow type_of_cycle test_bike  rear_wheel_size_iso_bsd  front_wheel_size_iso_bsd handlebar_type_slug frame_material_slug front_gear_type_slug rear_gear_type_slug  stolen_id  s_date_stolen           s_location   latitude   longitude          theft_description locking_description lock_defeat_description police_report_number police_report_department     s_rec_created_at create_open311                             sder_formatted_address sder_street_number  \\\n",
       "3             True               NaN          Bike     False                      NaN                       NaN                 NaN                 NaN                  NaN                 NaN       7889     1370844000  San Jose, CA, 95126  37.329012 -121.916021                  bike rack                 NaN                     NaN            T13006853                 San Jose  2014-06-14 17:52:49          False           1323 Martin Ave, San Jose, CA 95126, USA               1323   \n",
       "4             True               NaN          Bike     False                      NaN                       NaN                 NaN                 NaN                  NaN                 NaN       9705     1278741600  Sandusky, OH, 44870  41.440356  -82.768114  car bike rack Reward: $75                 NaN                     NaN           2010004433                 Sandusky  2014-06-14 18:17:08          False  4614 Venice Heights Blvd, Sandusky, OH 44870, USA               4614   \n",
       "\n",
       "                 sder_route sder_postal_code     sder_neighborhood sder_city         sder_county  sder_state   sder_country  date_stolen_epoch  registration_created_at_epoch  registration_updated_at_epoch  s_rec_created_at_epoch  \n",
       "3             Martin Avenue            95126  Shasta-Hanchett Park  San Jose  Santa Clara County  California  United States         1370844000                     1376978400                     1446527474              1402768369  \n",
       "4  Venice Heights Boulevard            44870                   NaN  Sandusky         Erie County        Ohio  United States         1278741600                     1278828000                     1446527873              1402769828  "
      ]
     },
     "execution_count": 69,
     "metadata": {},
     "output_type": "execute_result"
    }
   ],
   "source": [
    "# Remove nulls in theft description - only stolen bikes have theft description -> store in filtered dataframe\n",
    "num_stolen = len(bike_masterdf.stolen[bike_masterdf.stolen == True])\n",
    "print \"Number of bikes reported as stolen: \", num_stolen\n",
    "print \"Proportion of bikes reported as stolen:  %.2f\" % (float(num_stolen)/float(bike_masterdf.shape[0]))\n",
    "desc_mask = bike_masterdf.theft_description.isnull()\n",
    "bike_subdf = bike_masterdf[~desc_mask]\n",
    "print \"Number of Stolen bikes with theft description:\", bike_subdf.shape[0]\n",
    "\n",
    "#bike_subdf.to_json('./stolen_bikes.json')\n",
    "bike_subdf.head(2)"
   ]
  },
  {
   "cell_type": "code",
   "execution_count": null,
   "metadata": {
    "collapsed": false
   },
   "outputs": [],
   "source": [
    "theft_desc_word_count = bike_subdf.theft_description.apply(lambda x: len(x.split()))\n",
    "#theft_desc_word_count = np.array(theft_desc_list.apply(lambda x: len(x.split())))\n"
   ]
  },
  {
   "cell_type": "code",
   "execution_count": null,
   "metadata": {
    "collapsed": false
   },
   "outputs": [],
   "source": [
    "theft_desc_word_count.hist(bins=200)\n",
    "print \"Theft description with maximum word count:\", max(theft_desc_word_count)\n",
    "print \"Theft description with minimum word cunt: \", min(theft_desc_word_count)\n",
    "print \"Average word count of description: %.2f\" % np.mean(theft_desc_word_count)"
   ]
  },
  {
   "cell_type": "code",
   "execution_count": null,
   "metadata": {
    "collapsed": false
   },
   "outputs": [],
   "source": [
    "theft_desc_word_count_small = theft_desc_word_count[theft_desc_word_count < 100]\n",
    "theft_desc_word_count_large = theft_desc_word_count[theft_desc_word_count > 100]\n",
    "theft_desc_word_count_small.hist(bins=40)\n",
    "\n"
   ]
  },
  {
   "cell_type": "code",
   "execution_count": null,
   "metadata": {
    "collapsed": false
   },
   "outputs": [],
   "source": [
    "theft_desc_word_count_large.hist(bins=20)"
   ]
  },
  {
   "cell_type": "code",
   "execution_count": null,
   "metadata": {
    "collapsed": false
   },
   "outputs": [],
   "source": [
    "#TEMP:\n",
    "print (bike_subdf.theft_description[0:10])"
   ]
  },
  {
   "cell_type": "code",
   "execution_count": null,
   "metadata": {
    "collapsed": false,
    "scrolled": true
   },
   "outputs": [],
   "source": [
    "#Unnecessary i think as we are 'NOT' predicting anything\n",
    "# Split data in to training + testing\n",
    "itrain, itest = train_test_split(xrange(bike_subdf.shape[0]), train_size=0.7)\n",
    "mask=np.ones(bike_subdf.shape[0], dtype='int')\n",
    "mask[itrain]=1\n",
    "mask[itest]=0\n",
    "mask = (mask==1)\n",
    "\n"
   ]
  },
  {
   "cell_type": "code",
   "execution_count": null,
   "metadata": {
    "collapsed": true
   },
   "outputs": [],
   "source": [
    "#Process each document (theft description belonging to each sample) by removing stop words, punctuations etc.\n",
    "# Trail run on training data\n",
    "#setting min_df =1\n",
    "vectorizer = CountVectorizer(min_df=1, stop_words='english')\n",
    "X = vectorizer.fit_transform(bike_subdf.theft_description)    #************* May need to use mask for train/test \n",
    "#X = X.tocsc() \n",
    "id2words = dict((v, k) for k, v in vectorizer.vocabulary_.iteritems())\n",
    "corpus_gensim = gensim.matutils.Sparse2Corpus(X, documents_columns=False)"
   ]
  },
  {
   "cell_type": "code",
   "execution_count": null,
   "metadata": {
    "collapsed": false
   },
   "outputs": [],
   "source": [
    "corpus_gensim.sparse.shape"
   ]
  },
  {
   "cell_type": "code",
   "execution_count": null,
   "metadata": {
    "collapsed": true
   },
   "outputs": [],
   "source": [
    "# 1st model using LDA  to understand semantics of classifier\n",
    "lda = gensim.models.ldamodel.LdaModel(corpus_gensim, id2word=id2words, num_topics=2, update_every=1, chunksize=100, passes=1)"
   ]
  },
  {
   "cell_type": "code",
   "execution_count": null,
   "metadata": {
    "collapsed": false
   },
   "outputs": [],
   "source": [
    "print lda.print_topics()"
   ]
  },
  {
   "cell_type": "code",
   "execution_count": null,
   "metadata": {
    "collapsed": false
   },
   "outputs": [],
   "source": [
    "print \"The above was a direct LDA run on the data related to theft description. We can see that there is a lot of garbage that needs to be filtered out of the descriptions to make topic selection better\"\n",
    "\n",
    "print \"We can use Penn Treebank II tag set to parse the worse and filter words that do not apply to our topic selection.\\\n",
    "The basic exercise here is to identify specific details pertaining to where the bikes were stole from. Mostly these will be captured \\\n",
    "by the nouns. Let us start by only looking for nouns\"\n"
   ]
  },
  {
   "cell_type": "code",
   "execution_count": null,
   "metadata": {
    "collapsed": false
   },
   "outputs": [],
   "source": [
    "# Create function to parse incoming text, tokenize and check for  ******* Nouns and Proper Nouns\n",
    "\n",
    "def gather_nouns(thetext):\n",
    "    thetext=re.sub(regex1, ' ', thetext)\n",
    "    thetext=re.sub(regex2, ' ', thetext)\n",
    "    thetext=re.sub(regex3, ' ', thetext)\n",
    "\n",
    "    nouns=[]\n",
    "    for sentence in parse(thetext, tokenize=True, lemmata = True, encoding = 'utf-8').split():\n",
    "        for token in sentence:\n",
    "            #print token\n",
    "            if len(token[4]) >0:\n",
    "                if token[1] in ['NN', 'NNS']:\n",
    "                    if token[4] in CUSTOM_STOPWORDS or token[4] in stopwords or token[4][0] in punctuation or token[4][-1] in punctuation or len(token[4])==1:\n",
    "                        continue\n",
    "                    nouns.append(token[4])\n",
    "    nouns2=[]\n",
    "\n",
    "    for n in nouns:\n",
    "        if len(n)!=0:\n",
    "            nouns2.append(n)\n",
    "        else:\n",
    "            print \"************** WE HAVE A PROBLEM **************\"\n",
    "    return ' '.join(nouns2)\n",
    "    "
   ]
  },
  {
   "cell_type": "code",
   "execution_count": null,
   "metadata": {
    "collapsed": false
   },
   "outputs": [],
   "source": [
    "atext = \"The bikes were locked to a sign pole in my apartment by the corner of the superstore. The lock was a combination lock and i had \\\n",
    "tied chained my helmet to the bike. We have fairly good security in the block of apartments here. The bike was of make 'GT' with shimano\\\n",
    "gears and had a custom seat. The apartment's security office told me that i have no chance of retrieving the bike\"\n",
    "print gather_nouns(atext)\n",
    "print \"\\n\"\n",
    "print parse(atext)\n"
   ]
  },
  {
   "cell_type": "code",
   "execution_count": null,
   "metadata": {
    "collapsed": false
   },
   "outputs": [],
   "source": [
    "#Tokenize each theft description to return a list of nouns, proper nouns etc for each sample (row)\n",
    "# We will remove words whose word count is less than 2\n",
    "parsed_nouns = bike_subdf.theft_description.apply(gather_nouns)\n",
    "vectorizer_nouns = CountVectorizer(min_df=2, stop_words='english')\n",
    "X_nouns = vectorizer_nouns.fit_transform(parsed_nouns)    #************* May need to use mask for train/test \n",
    "id2words_nouns = dict((v, k) for k, v in vectorizer_nouns.vocabulary_.iteritems())\n",
    "corpus_gensim_nouns = gensim.matutils.Sparse2Corpus(X_nouns, documents_columns=False)"
   ]
  },
  {
   "cell_type": "code",
   "execution_count": null,
   "metadata": {
    "collapsed": false
   },
   "outputs": [],
   "source": [
    "# From vectorizer, gather word-frequency data to look for highy frequency words\n",
    "#Credit: http://stackoverflow.com/questions/16078015/list-the-words-in-a-vocabulary-according-to-occurrence-in-a-text-corpus-scikit\n",
    "\n",
    "Nouns = vectorizer_nouns.get_feature_names()\n",
    "Noun_Counts = np.asarray(X_nouns.sum(axis=0)).ravel()\n",
    "#word_freq_dict = {'Nouns': Nouns, 'Count':Noun_Counts}\n",
    "#word_frequency = zip(vectorizer_nouns.get_feature_names(),np.asarray(X_nouns.sum(axis=0)).ravel())\n",
    "word_frequency = pd.DataFrame({'Nouns': Nouns, 'Count':Noun_Counts})\n",
    "sorted_w_freq_df = word_frequency.sort(columns='Count', ascending=False)\n",
    "sorted_w_freq_df.to_csv(DATAFILEPATH+'noun_frequency.csv')"
   ]
  },
  {
   "cell_type": "code",
   "execution_count": null,
   "metadata": {
    "collapsed": false
   },
   "outputs": [],
   "source": [
    "# Plot bar graph of Frequency of top 60 words \n",
    "#\n",
    "nrows=3\n",
    "ncols=3\n",
    "plt_rows = np.arange(nrows)\n",
    "plt_cols = np.arange(ncols)\n",
    "f1, ax1 = plt.subplots(figsize=(16,10), nrows=nrows, ncols=ncols)\n",
    "f1.set_tight_layout(True)\n",
    "x = 0\n",
    "#sns.barplot(x='Nouns',y='Count',data= sorted_w_freq_df[0:10])\n",
    "for row in plt_rows:\n",
    "    for col in plt_cols:\n",
    "        a = sns.barplot(x='Nouns',y='Count',data= sorted_w_freq_df[x:x+10], ax=ax1[row][col])\n",
    "        #print row,col\n",
    "        a.set_xticklabels(sorted_w_freq_df['Nouns'][x:x+10].tolist(), rotation='vertical')\n",
    "        a.set_ylabel('Word Frequency')\n",
    "        x+=10\n",
    "    x+=10\n",
    "\n"
   ]
  },
  {
   "cell_type": "code",
   "execution_count": null,
   "metadata": {
    "collapsed": false
   },
   "outputs": [],
   "source": [
    "#Perform LDA for different topic size on the noun_corpus\n",
    "print \"Corpus share:\", corpus_gensim_nouns.sparse.shape\n",
    "\n",
    "num_topics=range(2,10)\n",
    "lda_models_Umass_topic_coh={}\n",
    "lda_models_sig_words={}\n",
    "for eachtopic in num_topics:\n",
    "    lda_nouns = gensim.models.ldamodel.LdaModel(corpus_gensim_nouns,alpha='auto', id2word=id2words_nouns, num_topics=eachtopic, update_every=1, chunksize=100, passes=5)\n",
    "    lda_models_Umass_topic_coh[eachtopic]=lda_nouns.top_topics(corpus_gensim_nouns,num_words=15)\n",
    "    lda_models_sig_words[eachtopic]=lda_nouns.show_topics(num_topics=eachtopic, num_words=15, log=False, formatted=True)"
   ]
  },
  {
   "cell_type": "code",
   "execution_count": null,
   "metadata": {
    "collapsed": true
   },
   "outputs": [],
   "source": [
    "#Print Umass Topic coherence for each run of LDA with num of topics\n",
    "import pprint\n",
    "pp = pprint.PrettyPrinter(indent=4)\n",
    "\n",
    "for key in lda_models_Umass_topic_coh.keys():    \n",
    "    print \"Number of topics: \", key\n",
    "    pp.pprint (lda_models_Umass_topic_coh[key])\n",
    "    "
   ]
  },
  {
   "cell_type": "code",
   "execution_count": null,
   "metadata": {
    "collapsed": false
   },
   "outputs": [],
   "source": [
    "#Print 15 significant words for each topic based on each run of LDA with num of topics\n",
    "import pprint\n",
    "pp = pprint.PrettyPrinter(indent=4)\n",
    "\n",
    "for key in lda_models_sig_words.keys():    \n",
    "    print \"Number of topics: \", key\n",
    "    pp.pprint (lda_models_sig_words[key])"
   ]
  },
  {
   "cell_type": "code",
   "execution_count": null,
   "metadata": {
    "collapsed": false
   },
   "outputs": [],
   "source": [
    "lda_nouns.show_topics(num_topics=2, num_words=15, log=False, formatted=True)"
   ]
  },
  {
   "cell_type": "code",
   "execution_count": 70,
   "metadata": {
    "collapsed": true
   },
   "outputs": [],
   "source": [
    "def gather_nouns_and_adj(thetext):\n",
    "    thetext=re.sub(regex1, ' ', thetext)\n",
    "    thetext=re.sub(regex2, ' ', thetext)\n",
    "    thetext=re.sub(regex3, ' ', thetext)\n",
    "\n",
    "    tokens=[]\n",
    "    for sentence in parse(thetext, tokenize=True, lemmata = True, encoding = 'utf-8').split():\n",
    "        for token in sentence:\n",
    "            #print token\n",
    "            if len(token[4]) >0:\n",
    "                if token[1] in ['NN','NNS','JJ','JJR','JJS' ]:\n",
    "                    if token[4] in CUSTOM_STOPWORDS or token[4] in stopwords or token[4][0] in punctuation or token[4][-1] in punctuation or len(token[4])==1:\n",
    "                        continue\n",
    "                    \n",
    "                    #print token[4]    \n",
    "                    tokens.append(token[4])\n",
    "    tokens2=[]\n",
    "\n",
    "    for n in tokens:\n",
    "        if len(n)!=0:\n",
    "            tokens2.append(n)\n",
    "            # Remove repeating bigrams (e.g bike bike)\n",
    "            if (len(tokens2) !=1):\n",
    "                if (tokens2[-1] == tokens2[-2]):\n",
    "                    tokens2.pop()\n",
    "            \n",
    "            \n",
    "                            \n",
    "        else:\n",
    "            print \"************** WE HAVE A PROBLEM **************\"\n",
    "    return ' '.join(tokens2)"
   ]
  },
  {
   "cell_type": "code",
   "execution_count": 71,
   "metadata": {
    "collapsed": false
   },
   "outputs": [
    {
     "name": "stdout",
     "output_type": "stream",
     "text": [
      "bike sign pole apartment corner superstore lock combination lock helmet bike good security block apartment bike make shimano gear custom seat apartment security office chance bike counsin bike home open garage\n"
     ]
    }
   ],
   "source": [
    "btext = \"The bikes were locked to a sign pole in my apartment by the corner of the superstore. The lock was a combination lock. Lock had been compromised and i had \\\n",
    "tied chained my helmet to the bike. We have fairly good security in the block of apartments here. The bike bike was of make 'GT' with shimano \\\n",
    "gears and had a custom seat. The apartment's security office told me that i have no chance of retrieving the bike. My counsin' bike was\\\n",
    "stolen from their home's open garage overnight\"\n",
    "print gather_nouns_and_adj(btext)"
   ]
  },
  {
   "cell_type": "code",
   "execution_count": 73,
   "metadata": {
    "collapsed": false
   },
   "outputs": [],
   "source": [
    "##############################################################################################\n",
    "#Approaching parsing text as bi-grams: Bigrams would include both adjective and noun together\n",
    "\n",
    "parsed_tokens = bike_subdf.theft_description.apply(gather_nouns_and_adj)\n",
    "vectorizer_nouns_adj = CountVectorizer(min_df=2, ngram_range=(2,2), stop_words='english')\n",
    "nouns_adj_sparse_matrix = vectorizer_nouns_adj.fit_transform(parsed_tokens) \n",
    "nouns_adj_feature_names = vectorizer_nouns_adj.get_feature_names()\n",
    "noun_adj_counts = np.asarray(nouns_adj_sparse_matrix.sum(axis=0)).ravel()\n",
    "noun_adj_df = pd.DataFrame({'Nouns_Adj': nouns_adj_feature_names, 'Count':noun_adj_counts})\n",
    "noun_adj_df_sorted = noun_adj_df.sort(columns='Count', ascending=False)\n"
   ]
  },
  {
   "cell_type": "code",
   "execution_count": 84,
   "metadata": {
    "collapsed": false
   },
   "outputs": [
    {
     "name": "stdout",
     "output_type": "stream",
     "text": [
      "6132\n"
     ]
    },
    {
     "data": {
      "text/html": [
       "<div>\n",
       "<table border=\"1\" class=\"dataframe\">\n",
       "  <thead>\n",
       "    <tr style=\"text-align: right;\">\n",
       "      <th></th>\n",
       "      <th>Count</th>\n",
       "      <th>Nouns_Adj</th>\n",
       "    </tr>\n",
       "  </thead>\n",
       "  <tbody>\n",
       "    <tr>\n",
       "      <th>840</th>\n",
       "      <td>3037</td>\n",
       "      <td>bike rack</td>\n",
       "    </tr>\n",
       "    <tr>\n",
       "      <th>207</th>\n",
       "      <td>402</td>\n",
       "      <td>apartment building</td>\n",
       "    </tr>\n",
       "    <tr>\n",
       "      <th>1283</th>\n",
       "      <td>384</td>\n",
       "      <td>cable lock</td>\n",
       "    </tr>\n",
       "    <tr>\n",
       "      <th>4010</th>\n",
       "      <td>382</td>\n",
       "      <td>parking garage</td>\n",
       "    </tr>\n",
       "    <tr>\n",
       "      <th>748</th>\n",
       "      <td>357</td>\n",
       "      <td>bike lock</td>\n",
       "    </tr>\n",
       "    <tr>\n",
       "      <th>3164</th>\n",
       "      <td>327</td>\n",
       "      <td>lock bike</td>\n",
       "    </tr>\n",
       "    <tr>\n",
       "      <th>2301</th>\n",
       "      <td>257</td>\n",
       "      <td>garage bike</td>\n",
       "    </tr>\n",
       "    <tr>\n",
       "      <th>4014</th>\n",
       "      <td>245</td>\n",
       "      <td>parking lot</td>\n",
       "    </tr>\n",
       "    <tr>\n",
       "      <th>2325</th>\n",
       "      <td>202</td>\n",
       "      <td>garage door</td>\n",
       "    </tr>\n",
       "    <tr>\n",
       "      <th>2730</th>\n",
       "      <td>191</td>\n",
       "      <td>home garage</td>\n",
       "    </tr>\n",
       "    <tr>\n",
       "      <th>684</th>\n",
       "      <td>178</td>\n",
       "      <td>bike garage</td>\n",
       "    </tr>\n",
       "    <tr>\n",
       "      <th>210</th>\n",
       "      <td>172</td>\n",
       "      <td>apartment complex</td>\n",
       "    </tr>\n",
       "    <tr>\n",
       "      <th>3335</th>\n",
       "      <td>162</td>\n",
       "      <td>locked garage</td>\n",
       "    </tr>\n",
       "    <tr>\n",
       "      <th>4511</th>\n",
       "      <td>142</td>\n",
       "      <td>rack outside</td>\n",
       "    </tr>\n",
       "    <tr>\n",
       "      <th>1882</th>\n",
       "      <td>125</td>\n",
       "      <td>door open</td>\n",
       "    </tr>\n",
       "    <tr>\n",
       "      <th>4400</th>\n",
       "      <td>125</td>\n",
       "      <td>rack bike</td>\n",
       "    </tr>\n",
       "    <tr>\n",
       "      <th>4415</th>\n",
       "      <td>116</td>\n",
       "      <td>rack car</td>\n",
       "    </tr>\n",
       "    <tr>\n",
       "      <th>906</th>\n",
       "      <td>108</td>\n",
       "      <td>bike stolen</td>\n",
       "    </tr>\n",
       "    <tr>\n",
       "      <th>908</th>\n",
       "      <td>108</td>\n",
       "      <td>bike storage</td>\n",
       "    </tr>\n",
       "    <tr>\n",
       "      <th>1101</th>\n",
       "      <td>102</td>\n",
       "      <td>bolt cutter</td>\n",
       "    </tr>\n",
       "  </tbody>\n",
       "</table>\n",
       "</div>"
      ],
      "text/plain": [
       "      Count           Nouns_Adj\n",
       "840    3037           bike rack\n",
       "207     402  apartment building\n",
       "1283    384          cable lock\n",
       "4010    382      parking garage\n",
       "748     357           bike lock\n",
       "3164    327           lock bike\n",
       "2301    257         garage bike\n",
       "4014    245         parking lot\n",
       "2325    202         garage door\n",
       "2730    191         home garage\n",
       "684     178         bike garage\n",
       "210     172   apartment complex\n",
       "3335    162       locked garage\n",
       "4511    142        rack outside\n",
       "1882    125           door open\n",
       "4400    125           rack bike\n",
       "4415    116            rack car\n",
       "906     108         bike stolen\n",
       "908     108        bike storage\n",
       "1101    102         bolt cutter"
      ]
     },
     "execution_count": 84,
     "metadata": {},
     "output_type": "execute_result"
    }
   ],
   "source": [
    "print len(nouns_adj_feature_names)\n",
    "feature_index = np.arange(len(nouns_adj_feature_names))\n",
    "split_features = [x.split() for x in nouns_adj_feature_names]\n",
    "noun_adj_df_sorted.head(20)"
   ]
  },
  {
   "cell_type": "code",
   "execution_count": null,
   "metadata": {
    "collapsed": true
   },
   "outputs": [],
   "source": [
    "noun_adj_df_sorted.to_csv(DATAFILEPATH+'noun_adj_frequency.csv',encoding='utf-8')"
   ]
  }
 ],
 "metadata": {
  "kernelspec": {
   "display_name": "Python 2",
   "language": "python",
   "name": "python2"
  },
  "language_info": {
   "codemirror_mode": {
    "name": "ipython",
    "version": 2
   },
   "file_extension": ".py",
   "mimetype": "text/x-python",
   "name": "python",
   "nbconvert_exporter": "python",
   "pygments_lexer": "ipython2",
   "version": "2.7.10"
  }
 },
 "nbformat": 4,
 "nbformat_minor": 0
}
