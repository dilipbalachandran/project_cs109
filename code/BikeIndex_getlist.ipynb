{
 "cells": [
  {
   "cell_type": "markdown",
   "metadata": {},
   "source": [
    "# CS 109 Final Project\n",
    "\n",
    "## BikeIndex_getlist\n",
    "\n",
    "#### This module downloads all the listings from bikes index to a json file\n",
    "\n",
    "##### Written by: Dilip Balachandran,  04 November 2015\n"
   ]
  },
  {
   "cell_type": "code",
   "execution_count": 1,
   "metadata": {
    "collapsed": false
   },
   "outputs": [],
   "source": [
    "%matplotlib inline\n",
    "import numpy as np\n",
    "import scipy as sp\n",
    "import matplotlib as mpl\n",
    "import matplotlib.cm as cm\n",
    "import matplotlib.pyplot as plt\n",
    "import pandas as pd\n",
    "pd.set_option('display.width', 500)\n",
    "pd.set_option('display.max_columns', 100)\n",
    "pd.set_option('display.notebook_repr_html', True)\n",
    "import seaborn as sns\n",
    "sns.set_style(\"whitegrid\")\n",
    "sns.set_context(\"poster\")\n",
    "import json\n",
    "from pyquery import PyQuery as pq\n",
    "from bs4 import BeautifulSoup\n",
    "# The \"requests\" library makes working with HTTP requests easier\n",
    "# than the built-in urllib libraries.\n",
    "import requests\n",
    "import requests.auth\n",
    "import string\n",
    "import re\n",
    "import collections\n",
    "import json\n",
    "import time\n",
    "import datetime\n",
    "import itertools\n"
   ]
  },
  {
   "cell_type": "code",
   "execution_count": 5,
   "metadata": {
    "collapsed": true
   },
   "outputs": [],
   "source": [
    "CLIENT_ID = 'f985c560977862189e8ba5071707cd2f055f5d10993a876e54ddc92530867a2d'\n",
    "CLIENT_SECRET = '0a5899282fb25ec1ac4707d809b69f9edc0db7ed57e100b092d54fa7042213b9'\n",
    "CODE = '494b67baf27fd63d34525b024658904b630fa4a8319c18e28d19f3167015e988'\n",
    "REDIRECT_URI = 'https://bikeindex.org/documentation/authorize'\n",
    "\n",
    "BikeIndexURL = \"https://bikeindex.org/api/v2/bikes_search?access_token=\"\n",
    "\n"
   ]
  },
  {
   "cell_type": "code",
   "execution_count": 8,
   "metadata": {
    "collapsed": true
   },
   "outputs": [],
   "source": [
    "token_dict={'access_token':'f2d3ceba38db5588aa4c7a8584475777f87bd0d2049bff13c4090e475cefee12',\n",
    "                   'token_type':'bearer',\n",
    "                   'expires_in':3600,\n",
    "                   'refresh_token': 'c3fd120bbac0f6b02f305c9f1cced85e641ee5e6f60552c27d88004b956650eb'}"
   ]
  },
  {
   "cell_type": "code",
   "execution_count": 22,
   "metadata": {
    "collapsed": false
   },
   "outputs": [
    {
     "name": "stdout",
     "output_type": "stream",
     "text": [
      "{'grant_type': 'refresh_token', 'refresh_token': '28ac2e59bb952021a243e0bcf506ed9b2a58989416cb593d32c6c8b228308cac', 'client_id': 'f985c560977862189e8ba5071707cd2f055f5d10993a876e54ddc92530867a2d'}\n",
      "{u'access_token': u'f2d3ceba38db5588aa4c7a8584475777f87bd0d2049bff13c4090e475cefee12', u'token_type': u'bearer', u'expires_in': 3600, u'refresh_token': u'c3fd120bbac0f6b02f305c9f1cced85e641ee5e6f60552c27d88004b956650eb'}\n"
     ]
    }
   ],
   "source": [
    "#Credit: https://github.com/reddit/reddit/wiki/OAuth2-Python-Example\n",
    "# https://github.com/reddit/reddit/wiki/OAuth2-Quick-Start-Example        \n",
    "# http://stackoverflow.com/questions/6399978/getting-started-with-twitter-oauth2-python\n",
    "# Refresh tokens:  https://bikeindex.org/oauth/token?grant_type=refresh_token&client_id={app_id}&refresh_token={refresh_token}\n",
    "\n",
    "###BIKE INDEX DATA EXTRACTION\n",
    "\n",
    "\n",
    "oauth_access_token={'access_token':'a789a9ec9d40fff068c27d78426526792a3d93477b5916148fd09c14840a7990',\n",
    "                   'token_type':'bearer',\n",
    "                   'expires_in':3600,\n",
    "                   'refresh_token': '28ac2e59bb952021a243e0bcf506ed9b2a58989416cb593d32c6c8b228308cac'}\n",
    "\n",
    "#####################################################################################################\n",
    "\n",
    "\n",
    "\n",
    "client_auth = requests.auth.HTTPBasicAuth(CLIENT_ID, CLIENT_SECRET)\n",
    "\n",
    "\n",
    "\n",
    "def get_token (CODE):\n",
    "        \n",
    "    post_data = {\"grant_type\": \"authorization_code\",\n",
    "             \"code\": CODE,\n",
    "             \"redirect_uri\": REDIRECT_URI}\n",
    "    token_access = requests.post(\"https://bikeindex.org/oauth/token?\",data=post_data)\n",
    "    token_access_json = token_access.json()\n",
    "    return token_response_json[\"access_token\"]\n",
    "    \n",
    "def refresh_token(refresh_token, clientID):\n",
    "    \n",
    "    refresh_data = {\"grant_type\": 'refresh_token',\n",
    "                     \"client_id\": clientID,\n",
    "                     \"refresh_token\": refresh_token}\n",
    "    print refresh_data\n",
    "    token_refresh =  requests.post(\"https://bikeindex.org/oauth/token?\",data=refresh_data)\n",
    "    token_refresh_json = token_refresh.json()\n",
    "    return token_refresh_json\n",
    "\n",
    "\n",
    "new_token_dict = refresh_token(token_dict['refresh_token'], CLIENT_ID)\n",
    "token_dict = new_token_dict\n",
    "\n",
    "\n"
   ]
  },
  {
   "cell_type": "code",
   "execution_count": 6,
   "metadata": {
    "collapsed": true
   },
   "outputs": [],
   "source": [
    "#Initiating  Page details and other variables:\n",
    "per_page=100\n",
    "resume_page=1\n",
    "max_pages=800"
   ]
  },
  {
   "cell_type": "code",
   "execution_count": 13,
   "metadata": {
    "collapsed": false
   },
   "outputs": [
    {
     "name": "stdout",
     "output_type": "stream",
     "text": [
      "Page to resume from: 2\n",
      "https://bikeindex.org/api/v2/bikes_search?access_token=f2d3ceba38db5588aa4c7a8584475777f87bd0d2049bff13c4090e475cefee12&page=2&per_page=100\n",
      "True\n",
      "page_num 2\n"
     ]
    }
   ],
   "source": [
    "\n",
    "BikesList=[]\n",
    "JSON_FILE = \"C:/Users/balachandrd/Documents/Personal/CS-109/Project/DATA/bikes_list.json\"\n",
    "page_range = range(resume_page,max_pages)\n",
    "\n",
    "\n",
    "def write_to_file(list_in, file_name='temp_file.json', page_number=1):\n",
    "    try:\n",
    "        if (page_number == 1) :\n",
    "            json_file=open(file_name,\"w\")\n",
    "        else :\n",
    "            json_file=open(file_name,\"a\")\n",
    "        json.dump(list_in, json_file)\n",
    "    except IOError :\n",
    "        print \"IO Error\"\n",
    "\n",
    "for page_num in page_range:\n",
    "    print \"Page to resume from:\", resume_page\n",
    "    \n",
    "    framed_url = BikeIndexURL+token_dict['access_token']+'&page='+str(page_num)+'&per_page='+str(per_page) \n",
    "    #print framed_url\n",
    "    page_get = requests.get(framed_url)\n",
    "    valid_page = (page_get.json().values()[0] > 1) \n",
    "    #print valid_page\n",
    "    try :\n",
    "        if (valid_page):\n",
    "            if (page_get.status_code == 200):\n",
    "                BikesList.append(page_get.json())\n",
    "                if ((page_num % 10) != 0):\n",
    "                    write_to_file(BikesList, page_number=page_num)\n",
    "\n",
    "        print \"page_num\", page_num\n",
    "        resume_page=page_num\n",
    "        time.sleep(1)\n",
    "    except :\n",
    "        print \"boo\"\n",
    "\n",
    "    finally :\n",
    "        page_get.close()"
   ]
  },
  {
   "cell_type": "code",
   "execution_count": 103,
   "metadata": {
    "collapsed": false
   },
   "outputs": [
    {
     "data": {
      "text/plain": [
       "0"
      ]
     },
     "execution_count": 103,
     "metadata": {},
     "output_type": "execute_result"
    }
   ],
   "source": [
    "len(page_get.json().values()[0])\n",
    "\n"
   ]
  },
  {
   "cell_type": "code",
   "execution_count": 109,
   "metadata": {
    "collapsed": false
   },
   "outputs": [
    {
     "data": {
      "text/plain": [
       "1"
      ]
     },
     "execution_count": 109,
     "metadata": {},
     "output_type": "execute_result"
    }
   ],
   "source": [
    "True * True"
   ]
  },
  {
   "cell_type": "code",
   "execution_count": null,
   "metadata": {
    "collapsed": true
   },
   "outputs": [],
   "source": []
  }
 ],
 "metadata": {
  "kernelspec": {
   "display_name": "Python 2",
   "language": "python",
   "name": "python2"
  },
  "language_info": {
   "codemirror_mode": {
    "name": "ipython",
    "version": 2
   },
   "file_extension": ".py",
   "mimetype": "text/x-python",
   "name": "python",
   "nbconvert_exporter": "python",
   "pygments_lexer": "ipython2",
   "version": "2.7.10"
  }
 },
 "nbformat": 4,
 "nbformat_minor": 0
}
