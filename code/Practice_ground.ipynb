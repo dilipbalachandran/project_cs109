{
 "cells": [
  {
   "cell_type": "code",
   "execution_count": 3,
   "metadata": {
    "collapsed": true
   },
   "outputs": [],
   "source": [
    "%matplotlib inline\n",
    "import numpy as np\n",
    "import scipy as sp\n",
    "import matplotlib as mpl\n",
    "import matplotlib.cm as cm\n",
    "import matplotlib.pyplot as plt\n",
    "import pandas as pd\n",
    "pd.set_option('display.width', 500)\n",
    "pd.set_option('display.max_columns', 100)\n",
    "pd.set_option('display.notebook_repr_html', True)\n",
    "import seaborn as sns\n",
    "sns.set_style(\"whitegrid\")\n",
    "sns.set_context(\"poster\")\n",
    "from sklearn.feature_extraction.text import CountVectorizer\n",
    "import gensim\n",
    "from sklearn.cross_validation import train_test_split\n",
    "from collections import defaultdict\n",
    "from pattern.en import parse\n",
    "from pattern.en import pprint\n",
    "from pattern.vector import stem, PORTER, LEMMA\n",
    "from sklearn.feature_extraction import text \n",
    "stopwords=text.ENGLISH_STOP_WORDS\n",
    "punctuation = list('.,;:!?()[]{}`''\\\"@#$^&*+-|=~_')\n",
    "\n"
   ]
  },
  {
   "cell_type": "code",
   "execution_count": null,
   "metadata": {
    "collapsed": true
   },
   "outputs": [],
   "source": [
    "documents = [\"Human machine interface for lab abc computer applications\",\n",
    "\"A survey of user opinion of computer system response time\",\n",
    "            \"The EPS user interface management system\",\n",
    "        \"System and human system engineering testing of EPS\",\n",
    "           \"Relation of user perceived response time to error measurement\",\n",
    "            \"The generation of random binary unordered trees\",\n",
    "             \"The intersection graph of paths in trees\",\n",
    "             \"Graph minors IV Widths of trees and well quasi ordering\",\n",
    "             \"Graph minors A survey\"]\n",
    "\n",
    "vectorizer_t = CountVectorizer(min_df=1, stop_words='english')\n",
    "X_t = vectorizer_t.fit_transform(documents)\n",
    "corpus_gensim_t = gensim.matutils.Sparse2Corpus(X_t, documents_columns=False)"
   ]
  },
  {
   "cell_type": "code",
   "execution_count": 5,
   "metadata": {
    "collapsed": false
   },
   "outputs": [
    {
     "name": "stdout",
     "output_type": "stream",
     "text": [
      "Number of samples in the database: 59619\n"
     ]
    }
   ],
   "source": [
    "bike_masterdf = pd.read_csv('./bike_details.csv')\n",
    "print \"Number of samples in the database:\", bike_masterdf.shape[0]\n",
    "bike_masterdf.head(2)\n",
    "\n",
    "\n",
    "tempdf = bike_masterdf.head(100).copy()\n",
    "tempdf.to_json('./temp_json.json')"
   ]
  },
  {
   "cell_type": "code",
   "execution_count": null,
   "metadata": {
    "collapsed": true
   },
   "outputs": [],
   "source": [
    "#SPark setup\n",
    "\n",
    "conf = (pyspark.SparkConf()\n",
    "    .setMaster('local')\n",
    "    .setAppName('pyspark')\n",
    "    .set(\"spark.executor.memory\", \"4g\"))\n",
    "sc = pyspark.SparkContext(conf=conf)\n",
    "sqlsc=SQLContext(sc)\n",
    "\n"
   ]
  },
  {
   "cell_type": "code",
   "execution_count": 8,
   "metadata": {
    "collapsed": false
   },
   "outputs": [
    {
     "data": {
      "text/plain": [
       "[[[u'The', u'DT', u'B-NP', u'O', u'the'],\n",
       "  [u'bike', u'NN', u'I-NP', u'O', u'bike'],\n",
       "  [u'was', u'VBD', u'B-VP', u'O', u'be'],\n",
       "  [u'locked', u'VBN', u'I-VP', u'O', u'lock'],\n",
       "  [u'to', u'TO', u'O', u'O', u'to'],\n",
       "  [u'a', u'DT', u'B-NP', u'O', u'a'],\n",
       "  [u'sign', u'NN', u'I-NP', u'O', u'sign'],\n",
       "  [u'pole', u'NN', u'I-NP', u'O', u'pole'],\n",
       "  [u'by', u'IN', u'B-PP', u'B-PNP', u'by'],\n",
       "  [u'the', u'DT', u'B-NP', u'I-PNP', u'the'],\n",
       "  [u'corner', u'NN', u'I-NP', u'I-PNP', u'corner'],\n",
       "  [u'of', u'IN', u'B-PP', u'B-PNP', u'of'],\n",
       "  [u'the', u'DT', u'B-NP', u'I-PNP', u'the'],\n",
       "  [u'superstore', u'NN', u'I-NP', u'I-PNP', u'superstore'],\n",
       "  [u'.', u'.', u'O', u'O', u'.']],\n",
       " [[u'The', u'DT', u'B-NP', u'O', u'the'],\n",
       "  [u'lock', u'NN', u'I-NP', u'O', u'lock'],\n",
       "  [u'was', u'VBD', u'B-VP', u'O', u'be'],\n",
       "  [u'a', u'DT', u'B-NP', u'O', u'a'],\n",
       "  [u'combination', u'NN', u'I-NP', u'O', u'combination'],\n",
       "  [u'lock', u'NN', u'I-NP', u'O', u'lock'],\n",
       "  [u'and', u'CC', u'O', u'O', u'and'],\n",
       "  [u'i', u'NN', u'B-NP', u'O', u'i'],\n",
       "  [u'had', u'VBD', u'B-VP', u'O', u'have'],\n",
       "  [u'tied', u'VBN', u'I-VP', u'O', u'tie'],\n",
       "  [u'chained', u'VBD', u'I-VP', u'O', u'chain'],\n",
       "  [u'my', u'PRP$', u'B-NP', u'O', u'my'],\n",
       "  [u'helmet', u'NN', u'I-NP', u'O', u'helmet'],\n",
       "  [u'to', u'TO', u'O', u'O', u'to'],\n",
       "  [u'the', u'DT', u'B-NP', u'O', u'the'],\n",
       "  [u'bike', u'NN', u'I-NP', u'O', u'bike'],\n",
       "  [u'.', u'.', u'O', u'O', u'.']],\n",
       " [[u'The', u'DT', u'B-NP', u'O', u'the'],\n",
       "  [u'bike', u'NN', u'I-NP', u'O', u'bike'],\n",
       "  [u'was', u'VBD', u'B-VP', u'O', u'be'],\n",
       "  [u'of', u'IN', u'B-PP', u'B-PNP', u'of'],\n",
       "  [u'make', u'NN', u'B-NP', u'I-PNP', u'make'],\n",
       "  [u\"'\", u\"''\", u'O', u'O', u\"'\"],\n",
       "  [u'GT', u'NNP', u'B-NP', u'O', u'gt'],\n",
       "  [u\"'\", u'POS', u'O', u'O', u\"'\"],\n",
       "  [u'with', u'IN', u'B-PP', u'B-PNP', u'with'],\n",
       "  [u'shimano', u'NN', u'B-NP', u'I-PNP', u'shimano'],\n",
       "  [u'gears', u'NNS', u'I-NP', u'I-PNP', u'gear'],\n",
       "  [u'and', u'CC', u'O', u'O', u'and'],\n",
       "  [u'had', u'VBD', u'B-VP', u'O', u'have'],\n",
       "  [u'a', u'DT', u'B-NP', u'O', u'a'],\n",
       "  [u'custom', u'NN', u'I-NP', u'O', u'custom'],\n",
       "  [u'seat', u'NN', u'I-NP', u'O', u'seat']]]"
      ]
     },
     "execution_count": 8,
     "metadata": {},
     "output_type": "execute_result"
    }
   ],
   "source": [
    "thetext=\"The bike was locked to a sign pole by the corner of the superstore. The lock was a combination lock and i had \\\n",
    "tied chained my helmet to the bike. The bike was of make 'GT' with shimano gears and had a custom seat\"\n",
    "parse(thetext, tokenize=True, lemmata=True).split()"
   ]
  },
  {
   "cell_type": "code",
   "execution_count": 10,
   "metadata": {
    "collapsed": false
   },
   "outputs": [
    {
     "data": {
      "text/plain": [
       "[1, 2, 3, 4, 5, 6, 7, 8, 9, 10]"
      ]
     },
     "execution_count": 10,
     "metadata": {},
     "output_type": "execute_result"
    }
   ],
   "source": [
    "num_topics=range(1,11)\n",
    "num_topics"
   ]
  },
  {
   "cell_type": "code",
   "execution_count": 6,
   "metadata": {
    "collapsed": false
   },
   "outputs": [
    {
     "data": {
      "text/plain": [
       "array([ 0, 10, 20, 30, 40, 50])"
      ]
     },
     "execution_count": 6,
     "metadata": {},
     "output_type": "execute_result"
    }
   ],
   "source": [
    "\n",
    "a = np.arange(0,60,10)\n",
    "a"
   ]
  },
  {
   "cell_type": "code",
   "execution_count": null,
   "metadata": {
    "collapsed": true
   },
   "outputs": [],
   "source": []
  }
 ],
 "metadata": {
  "kernelspec": {
   "display_name": "Python 2",
   "language": "python",
   "name": "python2"
  },
  "language_info": {
   "codemirror_mode": {
    "name": "ipython",
    "version": 2
   },
   "file_extension": ".py",
   "mimetype": "text/x-python",
   "name": "python",
   "nbconvert_exporter": "python",
   "pygments_lexer": "ipython2",
   "version": "2.7.10"
  }
 },
 "nbformat": 4,
 "nbformat_minor": 0
}
